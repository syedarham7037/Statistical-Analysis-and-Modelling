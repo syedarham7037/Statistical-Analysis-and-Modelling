{
 "cells": [
  {
   "cell_type": "markdown",
   "id": "a6b2954d",
   "metadata": {},
   "source": [
    "# Data Analytics in Action Assignment: Part-A"
   ]
  },
  {
   "cell_type": "code",
   "execution_count": 3,
   "id": "7d6b0b12",
   "metadata": {},
   "outputs": [
    {
     "data": {
      "text/html": [
       "<div>\n",
       "<style scoped>\n",
       "    .dataframe tbody tr th:only-of-type {\n",
       "        vertical-align: middle;\n",
       "    }\n",
       "\n",
       "    .dataframe tbody tr th {\n",
       "        vertical-align: top;\n",
       "    }\n",
       "\n",
       "    .dataframe thead th {\n",
       "        text-align: right;\n",
       "    }\n",
       "</style>\n",
       "<table border=\"1\" class=\"dataframe\">\n",
       "  <thead>\n",
       "    <tr style=\"text-align: right;\">\n",
       "      <th></th>\n",
       "      <th>No</th>\n",
       "      <th>Country</th>\n",
       "      <th>Continent</th>\n",
       "      <th>LifeExpect</th>\n",
       "      <th>GDPPC</th>\n",
       "      <th>MfgMn$</th>\n",
       "      <th>AgriMn$</th>\n",
       "      <th>CO2kt</th>\n",
       "      <th>HealthPC$</th>\n",
       "      <th>Pop_mn</th>\n",
       "    </tr>\n",
       "  </thead>\n",
       "  <tbody>\n",
       "    <tr>\n",
       "      <th>0</th>\n",
       "      <td>1</td>\n",
       "      <td>Afghanistan</td>\n",
       "      <td>Asia</td>\n",
       "      <td>62.58</td>\n",
       "      <td>516.87</td>\n",
       "      <td>1546.26</td>\n",
       "      <td>5402.59</td>\n",
       "      <td>8709.47</td>\n",
       "      <td>80.29</td>\n",
       "      <td>38.97</td>\n",
       "    </tr>\n",
       "    <tr>\n",
       "      <th>1</th>\n",
       "      <td>2</td>\n",
       "      <td>Albania</td>\n",
       "      <td>Europe</td>\n",
       "      <td>76.99</td>\n",
       "      <td>5343.04</td>\n",
       "      <td>933.42</td>\n",
       "      <td>2915.07</td>\n",
       "      <td>4383.20</td>\n",
       "      <td>NaN</td>\n",
       "      <td>2.84</td>\n",
       "    </tr>\n",
       "    <tr>\n",
       "      <th>2</th>\n",
       "      <td>3</td>\n",
       "      <td>Algeria</td>\n",
       "      <td>Africa</td>\n",
       "      <td>74.45</td>\n",
       "      <td>3354.16</td>\n",
       "      <td>27257.32</td>\n",
       "      <td>20089.32</td>\n",
       "      <td>161563.00</td>\n",
       "      <td>214.85</td>\n",
       "      <td>43.45</td>\n",
       "    </tr>\n",
       "    <tr>\n",
       "      <th>3</th>\n",
       "      <td>4</td>\n",
       "      <td>Angola</td>\n",
       "      <td>Africa</td>\n",
       "      <td>62.26</td>\n",
       "      <td>1502.95</td>\n",
       "      <td>3548.57</td>\n",
       "      <td>4997.28</td>\n",
       "      <td>19814.50</td>\n",
       "      <td>50.74</td>\n",
       "      <td>33.43</td>\n",
       "    </tr>\n",
       "    <tr>\n",
       "      <th>4</th>\n",
       "      <td>5</td>\n",
       "      <td>Antigua and Barbuda</td>\n",
       "      <td>North America</td>\n",
       "      <td>78.84</td>\n",
       "      <td>15284.77</td>\n",
       "      <td>29.88</td>\n",
       "      <td>30.34</td>\n",
       "      <td>474.60</td>\n",
       "      <td>830.34</td>\n",
       "      <td>0.09</td>\n",
       "    </tr>\n",
       "  </tbody>\n",
       "</table>\n",
       "</div>"
      ],
      "text/plain": [
       "   No              Country      Continent  LifeExpect     GDPPC    MfgMn$  \\\n",
       "0   1          Afghanistan           Asia       62.58    516.87   1546.26   \n",
       "1   2              Albania         Europe       76.99   5343.04    933.42   \n",
       "2   3              Algeria         Africa       74.45   3354.16  27257.32   \n",
       "3   4               Angola         Africa       62.26   1502.95   3548.57   \n",
       "4   5  Antigua and Barbuda  North America       78.84  15284.77     29.88   \n",
       "\n",
       "    AgriMn$      CO2kt  HealthPC$  Pop_mn  \n",
       "0   5402.59    8709.47      80.29   38.97  \n",
       "1   2915.07    4383.20        NaN    2.84  \n",
       "2  20089.32  161563.00     214.85   43.45  \n",
       "3   4997.28   19814.50      50.74   33.43  \n",
       "4     30.34     474.60     830.34    0.09  "
      ]
     },
     "execution_count": 3,
     "metadata": {},
     "output_type": "execute_result"
    }
   ],
   "source": [
    "import pandas as pd\n",
    "import numpy as np\n",
    "import seaborn as sns\n",
    "import matplotlib.pyplot as plt\n",
    "import scipy.stats as stats\n",
    "from sklearn.impute import SimpleImputer\n",
    "from sklearn.linear_model import LinearRegression\n",
    "import statsmodels.api as sm\n",
    "\n",
    "DF=pd.read_excel('EconomicIndicators2020.xlsx')\n",
    "DF.head()"
   ]
  },
  {
   "cell_type": "code",
   "execution_count": 4,
   "id": "e8d4aa0a",
   "metadata": {},
   "outputs": [
    {
     "name": "stdout",
     "output_type": "stream",
     "text": [
      "No             0\n",
      "Country        0\n",
      "Continent      0\n",
      "LifeExpect     0\n",
      "GDPPC          0\n",
      "MfgMn$         0\n",
      "AgriMn$        0\n",
      "CO2kt         10\n",
      "HealthPC$     13\n",
      "Pop_mn         0\n",
      "dtype: int64\n"
     ]
    }
   ],
   "source": [
    "#Checking which all column have missing/null values\n",
    "\n",
    "print(DF.isnull().sum())"
   ]
  },
  {
   "cell_type": "code",
   "execution_count": 5,
   "id": "8ebbd348",
   "metadata": {},
   "outputs": [],
   "source": [
    "# Impute missing values with mean of the column\n",
    "\n",
    "DF['CO2kt'].fillna(DF['CO2kt'].mean(), inplace=True)\n",
    "DF['HealthPC$'].fillna(DF['HealthPC$'].mean(), inplace=True)"
   ]
  },
  {
   "cell_type": "code",
   "execution_count": 6,
   "id": "7df96bc3",
   "metadata": {},
   "outputs": [
    {
     "name": "stdout",
     "output_type": "stream",
     "text": [
      "No            0\n",
      "Country       0\n",
      "Continent     0\n",
      "LifeExpect    0\n",
      "GDPPC         0\n",
      "MfgMn$        0\n",
      "AgriMn$       0\n",
      "CO2kt         0\n",
      "HealthPC$     0\n",
      "Pop_mn        0\n",
      "dtype: int64\n"
     ]
    }
   ],
   "source": [
    "#Checking to see if any columns contain null/missing values after data cleaning\n",
    "\n",
    "print(DF.isnull().sum())"
   ]
  },
  {
   "cell_type": "code",
   "execution_count": 7,
   "id": "8324800a",
   "metadata": {},
   "outputs": [
    {
     "data": {
      "text/html": [
       "<div>\n",
       "<style scoped>\n",
       "    .dataframe tbody tr th:only-of-type {\n",
       "        vertical-align: middle;\n",
       "    }\n",
       "\n",
       "    .dataframe tbody tr th {\n",
       "        vertical-align: top;\n",
       "    }\n",
       "\n",
       "    .dataframe thead th {\n",
       "        text-align: right;\n",
       "    }\n",
       "</style>\n",
       "<table border=\"1\" class=\"dataframe\">\n",
       "  <thead>\n",
       "    <tr style=\"text-align: right;\">\n",
       "      <th></th>\n",
       "      <th>No</th>\n",
       "      <th>LifeExpect</th>\n",
       "      <th>GDPPC</th>\n",
       "      <th>MfgMn$</th>\n",
       "      <th>AgriMn$</th>\n",
       "      <th>CO2kt</th>\n",
       "      <th>HealthPC$</th>\n",
       "      <th>Pop_mn</th>\n",
       "    </tr>\n",
       "  </thead>\n",
       "  <tbody>\n",
       "    <tr>\n",
       "      <th>count</th>\n",
       "      <td>177.000000</td>\n",
       "      <td>177.000000</td>\n",
       "      <td>177.000000</td>\n",
       "      <td>1.770000e+02</td>\n",
       "      <td>1.770000e+02</td>\n",
       "      <td>1.770000e+02</td>\n",
       "      <td>177.000000</td>\n",
       "      <td>177.000000</td>\n",
       "    </tr>\n",
       "    <tr>\n",
       "      <th>mean</th>\n",
       "      <td>89.000000</td>\n",
       "      <td>72.670395</td>\n",
       "      <td>16590.260056</td>\n",
       "      <td>7.354169e+04</td>\n",
       "      <td>2.007267e+04</td>\n",
       "      <td>1.882131e+05</td>\n",
       "      <td>1228.635427</td>\n",
       "      <td>42.125932</td>\n",
       "    </tr>\n",
       "    <tr>\n",
       "      <th>std</th>\n",
       "      <td>51.239633</td>\n",
       "      <td>7.361974</td>\n",
       "      <td>24174.474210</td>\n",
       "      <td>3.483750e+05</td>\n",
       "      <td>9.458137e+04</td>\n",
       "      <td>9.061550e+05</td>\n",
       "      <td>1930.889219</td>\n",
       "      <td>154.097014</td>\n",
       "    </tr>\n",
       "    <tr>\n",
       "      <th>min</th>\n",
       "      <td>1.000000</td>\n",
       "      <td>52.780000</td>\n",
       "      <td>435.470000</td>\n",
       "      <td>2.020000e+00</td>\n",
       "      <td>0.000000e+00</td>\n",
       "      <td>5.690000e+01</td>\n",
       "      <td>17.950000</td>\n",
       "      <td>0.040000</td>\n",
       "    </tr>\n",
       "    <tr>\n",
       "      <th>25%</th>\n",
       "      <td>45.000000</td>\n",
       "      <td>67.990000</td>\n",
       "      <td>2446.080000</td>\n",
       "      <td>1.030400e+03</td>\n",
       "      <td>4.891900e+02</td>\n",
       "      <td>4.150700e+03</td>\n",
       "      <td>132.960000</td>\n",
       "      <td>1.790000</td>\n",
       "    </tr>\n",
       "    <tr>\n",
       "      <th>50%</th>\n",
       "      <td>89.000000</td>\n",
       "      <td>73.650000</td>\n",
       "      <td>5965.450000</td>\n",
       "      <td>3.819320e+03</td>\n",
       "      <td>2.954240e+03</td>\n",
       "      <td>1.837530e+04</td>\n",
       "      <td>426.660000</td>\n",
       "      <td>8.440000</td>\n",
       "    </tr>\n",
       "    <tr>\n",
       "      <th>75%</th>\n",
       "      <td>133.000000</td>\n",
       "      <td>78.080000</td>\n",
       "      <td>20398.060000</td>\n",
       "      <td>2.752534e+04</td>\n",
       "      <td>1.017377e+04</td>\n",
       "      <td>1.119781e+05</td>\n",
       "      <td>1228.635427</td>\n",
       "      <td>29.350000</td>\n",
       "    </tr>\n",
       "    <tr>\n",
       "      <th>max</th>\n",
       "      <td>177.000000</td>\n",
       "      <td>85.500000</td>\n",
       "      <td>165284.500000</td>\n",
       "      <td>3.860698e+06</td>\n",
       "      <td>1.130757e+06</td>\n",
       "      <td>1.094469e+07</td>\n",
       "      <td>11702.410000</td>\n",
       "      <td>1411.100000</td>\n",
       "    </tr>\n",
       "  </tbody>\n",
       "</table>\n",
       "</div>"
      ],
      "text/plain": [
       "               No  LifeExpect          GDPPC        MfgMn$       AgriMn$  \\\n",
       "count  177.000000  177.000000     177.000000  1.770000e+02  1.770000e+02   \n",
       "mean    89.000000   72.670395   16590.260056  7.354169e+04  2.007267e+04   \n",
       "std     51.239633    7.361974   24174.474210  3.483750e+05  9.458137e+04   \n",
       "min      1.000000   52.780000     435.470000  2.020000e+00  0.000000e+00   \n",
       "25%     45.000000   67.990000    2446.080000  1.030400e+03  4.891900e+02   \n",
       "50%     89.000000   73.650000    5965.450000  3.819320e+03  2.954240e+03   \n",
       "75%    133.000000   78.080000   20398.060000  2.752534e+04  1.017377e+04   \n",
       "max    177.000000   85.500000  165284.500000  3.860698e+06  1.130757e+06   \n",
       "\n",
       "              CO2kt     HealthPC$       Pop_mn  \n",
       "count  1.770000e+02    177.000000   177.000000  \n",
       "mean   1.882131e+05   1228.635427    42.125932  \n",
       "std    9.061550e+05   1930.889219   154.097014  \n",
       "min    5.690000e+01     17.950000     0.040000  \n",
       "25%    4.150700e+03    132.960000     1.790000  \n",
       "50%    1.837530e+04    426.660000     8.440000  \n",
       "75%    1.119781e+05   1228.635427    29.350000  \n",
       "max    1.094469e+07  11702.410000  1411.100000  "
      ]
     },
     "execution_count": 7,
     "metadata": {},
     "output_type": "execute_result"
    }
   ],
   "source": [
    "DF.describe()"
   ]
  },
  {
   "cell_type": "code",
   "execution_count": 19,
   "id": "f4201dfc",
   "metadata": {},
   "outputs": [],
   "source": [
    "# DF.to_csv('Corrected_CSV', index=False) To check if the imputed values appear in the csv file"
   ]
  },
  {
   "cell_type": "markdown",
   "id": "c9356d61",
   "metadata": {},
   "source": [
    "# Question1:"
   ]
  },
  {
   "cell_type": "markdown",
   "id": "914a291d",
   "metadata": {},
   "source": [
    "1a) What is the average life expectancy across all countries? "
   ]
  },
  {
   "cell_type": "code",
   "execution_count": 11,
   "id": "54b45b2b",
   "metadata": {},
   "outputs": [
    {
     "name": "stdout",
     "output_type": "stream",
     "text": [
      "The average life expectancy across all countries is: 72.67 years.\n"
     ]
    }
   ],
   "source": [
    "avg_life_exp = DF['LifeExpect'].mean()\n",
    "print(f\"The average life expectancy across all countries is: {avg_life_exp:.2f} years.\")\n"
   ]
  },
  {
   "cell_type": "markdown",
   "id": "150bc810",
   "metadata": {},
   "source": [
    "1b) How does life expectancy vary across the continents? Which continent has the biggest variation? Explain using appropriate charts or metrics."
   ]
  },
  {
   "cell_type": "code",
   "execution_count": 12,
   "id": "aabcee7a",
   "metadata": {},
   "outputs": [
    {
     "name": "stdout",
     "output_type": "stream",
     "text": [
      "               count       mean       std    min      25%     50%     75%  \\\n",
      "Continent                                                                   \n",
      "Africa          44.0  63.968636  6.033285  52.78  60.0075  62.685  66.590   \n",
      "Asia            45.0  74.774222  5.555416  62.58  70.4200  74.800  78.950   \n",
      "Europe          43.0  78.630698  3.890038  70.17  75.7500  80.530  82.035   \n",
      "North America   25.0  74.066000  3.639282  64.05  71.8000  73.420  76.980   \n",
      "Oceania         10.0  71.599000  6.348316  64.98  67.4325  70.435  72.310   \n",
      "South America   10.0  73.444000  4.409936  64.47  72.4075  73.840  75.610   \n",
      "\n",
      "                 max  \n",
      "Continent             \n",
      "Africa         77.24  \n",
      "Asia           85.50  \n",
      "Europe         83.21  \n",
      "North America  81.14  \n",
      "Oceania        83.20  \n",
      "South America  79.38  \n"
     ]
    },
    {
     "data": {
      "image/png": "[encoded data removed]",
      "text/plain": [
       "<Figure size 640x480 with 1 Axes>"
      ]
     },
     "metadata": {},
     "output_type": "display_data"
    }
   ],
   "source": [
    "#To calculate the standard deviation values accross all continents\n",
    "\n",
    "print(DF.groupby('Continent')['LifeExpect'].describe())\n",
    "stddev = DF.groupby('Continent')['LifeExpect'].std().reset_index()\n",
    "\n",
    "\n",
    "# Plotting the bar graph\n",
    "plt.barh(stddev['Continent'], stddev['LifeExpect'], color='blue')\n",
    "plt.title('Variation of Life Expectancy Across Continents')\n",
    "plt.xlabel('Standard Deviation of Life Expectancy')\n",
    "plt.ylabel('Continent')\n",
    "plt.show()\n",
    "\n",
    "# Displaying the plot\n",
    "plt.show()"
   ]
  },
  {
   "cell_type": "markdown",
   "id": "ebc9d214",
   "metadata": {},
   "source": [
    "1c) Is the distribution of life expectancy approximately symmetric? Explain why or why not using appropriate charts and analysis."
   ]
  },
  {
   "cell_type": "code",
   "execution_count": 14,
   "id": "7b4c14b0",
   "metadata": {},
   "outputs": [
    {
     "data": {
      "image/png": "[encoded data removed]",
      "text/plain": [
       "<Figure size 640x480 with 1 Axes>"
      ]
     },
     "metadata": {},
     "output_type": "display_data"
    },
    {
     "name": "stdout",
     "output_type": "stream",
     "text": [
      "Skewness: -0.50\n",
      "Kurtosis: -0.36\n"
     ]
    }
   ],
   "source": [
    "# Plot histogram\n",
    "\n",
    "sns.set_palette('viridis')\n",
    "sns.histplot(DF,x='LifeExpect',bins=20,kde=True)\n",
    "plt.title('Distribution of Life Expectancy Across Continents')\n",
    "plt.xlabel('Life Expectancy')\n",
    "plt.ylabel('Frequency')\n",
    "plt.show()\n",
    "\n",
    "life_expectancy=DF['LifeExpect']\n",
    "\n",
    "# Calculate skewness and kurtosis\n",
    "\n",
    "skewness = life_expectancy.skew()\n",
    "kurtosis = life_expectancy.kurtosis()\n",
    "\n",
    "print(f\"Skewness: {skewness:.2f}\")\n",
    "print(f\"Kurtosis: {kurtosis:.2f}\")\n",
    "\n",
    "\n"
   ]
  },
  {
   "cell_type": "markdown",
   "id": "4357769c",
   "metadata": {},
   "source": [
    "# Question 2:"
   ]
  },
  {
   "cell_type": "markdown",
   "id": "68bfe776",
   "metadata": {},
   "source": [
    "### Hypothesis Testing:"
   ]
  },
  {
   "cell_type": "code",
   "execution_count": 15,
   "id": "cbe0fb0f",
   "metadata": {},
   "outputs": [
    {
     "name": "stdout",
     "output_type": "stream",
     "text": [
      "One-Sample T-Test Results:\n",
      "Null hypothesis: Expected average life expectancy = 70 years\n",
      "Sample mean life expectancy: 72.67039548022599\n",
      "T-statistic: 4.825784830727795\n",
      "P-value: 3.0106331354163777e-06\n",
      "\n",
      "Significance level (alpha): 0.01\n",
      "\n",
      "Reject the null hypothesis.\n",
      "The available evidence strongly indicates that the average life expectancy differs from 70 years.\n"
     ]
    }
   ],
   "source": [
    "#Fetching the sample data\n",
    "\n",
    "life_expectancy = DF['LifeExpect']\n",
    "\n",
    "# Setting the expected average life expectancy\n",
    "\n",
    "expected_life_expectancy=70\n",
    "\n",
    "# Perform one-sample t-test\n",
    "\n",
    "t_stat, p_value = stats.ttest_1samp(life_expectancy, expected_life_expectancy)\n",
    "\n",
    "\n",
    "# Printing of Results\n",
    "print(\"One-Sample T-Test Results:\")\n",
    "print(f\"Null hypothesis: Expected average life expectancy = {expected_life_expectancy} years\")\n",
    "print(f\"Sample mean life expectancy: {life_expectancy.mean()}\")\n",
    "print(f\"T-statistic: {t_stat}\")\n",
    "print(f\"P-value: {p_value}\")\n",
    "\n",
    "# Significance at 99% confidence level\n",
    "\n",
    "alpha = 0.01\n",
    "print(f\"\\nSignificance level (alpha): {alpha}\")\n",
    "\n",
    "# Checking for significance at 99% confidence level\n",
    "\n",
    "alpha = 0.01\n",
    "if p_value < alpha:\n",
    "    print(\"\\nReject the null hypothesis.\")\n",
    "    print(\"The available evidence strongly indicates that the average life expectancy differs from 70 years.\")\n",
    "else:\n",
    "    print(\"\\nFail to reject the null hypothesis.\")\n",
    "    print(\"Insufficient evidence exists to indicate a difference in average life expectancy.\")\n",
    "\n",
    "\n"
   ]
  },
  {
   "cell_type": "markdown",
   "id": "9cbb2ec3",
   "metadata": {},
   "source": [
    "# Question 3:"
   ]
  },
  {
   "cell_type": "markdown",
   "id": "b9b5c2e2",
   "metadata": {},
   "source": [
    "3a) Your instinct tells you that there has to be a relationship between Life expectancy at birth and the GDP per capita of countries. Create an appropriate chart between the variables to get an initial idea of the relationship."
   ]
  },
  {
   "cell_type": "code",
   "execution_count": 20,
   "id": "5a0732d2",
   "metadata": {},
   "outputs": [
    {
     "data": {
      "image/png": "[encoded data removed]",
      "text/plain": [
       "<Figure size 1000x600 with 1 Axes>"
      ]
     },
     "metadata": {},
     "output_type": "display_data"
    }
   ],
   "source": [
    "#Setting the depenmdent and independant variables \n",
    "\n",
    "life_expectancy = DF['LifeExpect']  #Dependant Variable\n",
    "gdp_per_capita = DF['GDPPC']        #Independant Variable\n",
    "\n",
    "# Create a scatter plot\n",
    "plt.figure(figsize=(10, 6))\n",
    "sns.scatterplot(x=gdp_per_capita, y=life_expectancy)\n",
    "# Adding a trend line\n",
    "sns.regplot(x='GDPPC', y='LifeExpect', data=DF, scatter=False, color='red')\n",
    "\n",
    "plt.title('Scatter Plot: Life Expectancy vs GDP per Capita')\n",
    "plt.xlabel('GDP per Capita')\n",
    "plt.ylabel('Life Expectancy')\n",
    "plt.show()\n"
   ]
  },
  {
   "cell_type": "code",
   "execution_count": 21,
   "id": "8af32e6c",
   "metadata": {},
   "outputs": [
    {
     "name": "stdout",
     "output_type": "stream",
     "text": [
      "               GDPPC  LifeExpect     CO2kt\n",
      "GDPPC       1.000000    0.619943  0.049778\n",
      "LifeExpect  0.619943    1.000000  0.108235\n",
      "CO2kt       0.049778    0.108235  1.000000\n"
     ]
    }
   ],
   "source": [
    "#Correlation Matrix to check relation between varaibles\n",
    "\n",
    "cor_mat = DF[['GDPPC', 'LifeExpect','CO2kt']].corr()\n",
    "print(cor_mat)\n",
    "\n"
   ]
  },
  {
   "cell_type": "code",
   "execution_count": 22,
   "id": "1193b55b",
   "metadata": {},
   "outputs": [
    {
     "name": "stdout",
     "output_type": "stream",
     "text": [
      "                   GDPPC     LifeExpect         CO2kt\n",
      "GDPPC       5.844052e+08  110332.385664  1.090427e+09\n",
      "LifeExpect  1.103324e+05      54.198657  7.220449e+05\n",
      "CO2kt       1.090427e+09  722044.871363  8.211168e+11\n"
     ]
    }
   ],
   "source": [
    "#Covariation Matrix\n",
    "cov_mat = DF[['GDPPC', 'LifeExpect','CO2kt']].cov()\n",
    "print(cov_mat)"
   ]
  },
  {
   "cell_type": "markdown",
   "id": "10631b23",
   "metadata": {},
   "source": [
    "3b) Build a simple linear regression model between the above-mentioned variables. What does the result tell you? Interpret the regression coefficient and interpret the outputs of the analysis in simple terms that the client can understand."
   ]
  },
  {
   "cell_type": "code",
   "execution_count": 23,
   "id": "beac0f57",
   "metadata": {},
   "outputs": [
    {
     "name": "stdout",
     "output_type": "stream",
     "text": [
      "                            OLS Regression Results                            \n",
      "==============================================================================\n",
      "Dep. Variable:             LifeExpect   R-squared:                       0.384\n",
      "Model:                            OLS   Adj. R-squared:                  0.381\n",
      "Method:                 Least Squares   F-statistic:                     109.2\n",
      "Date:                Tue, 05 Dec 2023   Prob (F-statistic):           3.56e-20\n",
      "Time:                        02:48:21   Log-Likelihood:                -561.07\n",
      "No. Observations:                 177   AIC:                             1126.\n",
      "Df Residuals:                     175   BIC:                             1133.\n",
      "Df Model:                           1                                         \n",
      "Covariance Type:            nonrobust                                         \n",
      "==============================================================================\n",
      "                 coef    std err          t      P>|t|      [0.025      0.975]\n",
      "------------------------------------------------------------------------------\n",
      "const         69.5382      0.529    131.555      0.000      68.495      70.581\n",
      "GDPPC          0.0002   1.81e-05     10.452      0.000       0.000       0.000\n",
      "==============================================================================\n",
      "Omnibus:                       21.907   Durbin-Watson:                   1.977\n",
      "Prob(Omnibus):                  0.000   Jarque-Bera (JB):               26.132\n",
      "Skew:                          -0.921   Prob(JB):                     2.12e-06\n",
      "Kurtosis:                       3.389   Cond. No.                     3.55e+04\n",
      "==============================================================================\n",
      "\n",
      "Notes:\n",
      "[1] Standard Errors assume that the covariance matrix of the errors is correctly specified.\n",
      "[2] The condition number is large, 3.55e+04. This might indicate that there are\n",
      "strong multicollinearity or other numerical problems.\n"
     ]
    }
   ],
   "source": [
    "X = DF['GDPPC'] #Independant Variable\n",
    "Y = DF['LifeExpect'] #Dependant Variable\n",
    "\n",
    "# Adding a constant to the independent variable (for intercept)\n",
    "X = sm.add_constant(X)\n",
    "\n",
    "# Fitting the linear regression model\n",
    "model = sm.OLS(Y, X).fit()\n",
    "\n",
    "# Printing the summary of the regression model\n",
    "print(model.summary()) "
   ]
  },
  {
   "cell_type": "markdown",
   "id": "62265bf0",
   "metadata": {},
   "source": [
    "# Question 4: Multiple Regression"
   ]
  },
  {
   "cell_type": "markdown",
   "id": "7020cb64",
   "metadata": {},
   "source": [
    "Build a suitable multiple regression model based on the given variables. Comment on the output of the multiple regression and interpret the results(specifically standard error of estimate, R-squared, and adjusted R\u0002squared). Interpret each of the regression coefficients. Comment on the accuracy of the model’s prediction."
   ]
  },
  {
   "cell_type": "code",
   "execution_count": 24,
   "id": "918dd295",
   "metadata": {},
   "outputs": [
    {
     "name": "stdout",
     "output_type": "stream",
     "text": [
      "                            OLS Regression Results                            \n",
      "==============================================================================\n",
      "Dep. Variable:             LifeExpect   R-squared:                       0.449\n",
      "Model:                            OLS   Adj. R-squared:                  0.430\n",
      "Method:                 Least Squares   F-statistic:                     23.13\n",
      "Date:                Tue, 05 Dec 2023   Prob (F-statistic):           7.23e-20\n",
      "Time:                        02:50:50   Log-Likelihood:                -551.18\n",
      "No. Observations:                 177   AIC:                             1116.\n",
      "Df Residuals:                     170   BIC:                             1139.\n",
      "Df Model:                           6                                         \n",
      "Covariance Type:            nonrobust                                         \n",
      "==============================================================================\n",
      "                 coef    std err          t      P>|t|      [0.025      0.975]\n",
      "------------------------------------------------------------------------------\n",
      "const         69.1624      0.540    128.130      0.000      68.097      70.228\n",
      "GDPPC          0.0001   2.57e-05      4.215      0.000    5.76e-05       0.000\n",
      "MfgMn$     -7.703e-06    5.4e-06     -1.428      0.155   -1.84e-05    2.95e-06\n",
      "AgriMn$     3.245e-05   2.79e-05      1.164      0.246   -2.26e-05    8.75e-05\n",
      "CO2kt       1.893e-06   3.05e-06      0.620      0.536   -4.13e-06    7.92e-06\n",
      "HealthPC$      0.0015      0.000      4.118      0.000       0.001       0.002\n",
      "Pop_mn        -0.0144      0.009     -1.557      0.121      -0.033       0.004\n",
      "==============================================================================\n",
      "Omnibus:                       15.367   Durbin-Watson:                   2.076\n",
      "Prob(Omnibus):                  0.000   Jarque-Bera (JB):               17.174\n",
      "Skew:                          -0.760   Prob(JB):                     0.000187\n",
      "Kurtosis:                       3.136   Cond. No.                     1.28e+06\n",
      "==============================================================================\n",
      "\n",
      "Notes:\n",
      "[1] Standard Errors assume that the covariance matrix of the errors is correctly specified.\n",
      "[2] The condition number is large, 1.28e+06. This might indicate that there are\n",
      "strong multicollinearity or other numerical problems.\n"
     ]
    }
   ],
   "source": [
    "xvar_list = ['GDPPC', 'MfgMn$', 'AgriMn$', 'CO2kt', 'HealthPC$', 'Pop_mn']  #Independant Variables\n",
    "yvar = 'LifeExpect'   #Dependant Variable\n",
    "data = DF.reset_index(drop=True)\n",
    "\n",
    "X = data[xvar_list]\n",
    "Y = data[[yvar]]\n",
    "X2 = sm.add_constant(X)\n",
    "est = sm.OLS(Y, X2)\n",
    "est2 = est.fit()\n",
    "print(est2.summary())"
   ]
  }
 ],
 "metadata": {
  "kernelspec": {
   "display_name": "Python 3 (ipykernel)",
   "language": "python",
   "name": "python3"
  },
  "language_info": {
   "codemirror_mode": {
    "name": "ipython",
    "version": 3
   },
   "file_extension": ".py",
   "mimetype": "text/x-python",
   "name": "python",
   "nbconvert_exporter": "python",
   "pygments_lexer": "ipython3",
   "version": "3.11.5"
  }
 },
 "nbformat": 4,
 "nbformat_minor": 5
}
